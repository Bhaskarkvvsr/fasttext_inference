{
 "cells": [
  {
   "cell_type": "code",
   "execution_count": 1,
   "metadata": {},
   "outputs": [],
   "source": [
    "from pyspark.sql import SparkSession\n",
    "spark = SparkSession.builder.appName('mysession').getOrCreate()"
   ]
  },
  {
   "cell_type": "markdown",
   "metadata": {},
   "source": [
    "In this note I show you how the input Parquet file was generated from the raw test file. \n",
    "\n",
    "The flow is as follows:\n",
    "`data/test` $\\rightarrow$ `data/test_unlabeled` $\\rightarrow$ `data/input.parquet`"
   ]
  },
  {
   "cell_type": "markdown",
   "metadata": {},
   "source": [
    "# Generating Unlabeled Test File"
   ]
  },
  {
   "cell_type": "markdown",
   "metadata": {},
   "source": [
    "The file `data/test_unlabeled` is just the unlabeled version of `data/test`. If you are curious, I show you here how I converted one file into another via Python generators.\n",
    "\n",
    "This is useful when we have a labeled dataset for which we want to retrieve predictions and compare them with true labels in order to compute performance metrics. In that case, we need to unlabel the dataset first and then perform inference to get the predictions. However, in practice, we will perform inference for unlabeled data. "
   ]
  },
  {
   "cell_type": "code",
   "execution_count": 2,
   "metadata": {},
   "outputs": [
    {
     "name": "stdout",
     "output_type": "stream",
     "text": [
      "__label__php __label__image making an image greyscale with gd library\r\n",
      "__label__eclipse transforming selected text with a hotkey\r\n",
      "__label__sql-server sql server and the guest account what is this for\r\n",
      "__label__jquery __label__html how can i change html attribute names with jquery\r\n",
      "__label__php __label__ajax how can i send an array to php through ajax\r\n",
      "__label__c __label__cocoa c the definitive truth about rand random and arc4random\r\n",
      "__label__winforms gantt chart controls on windows forms\r\n",
      "__label__php __label__linux build tar file from directory in php without exec/passthru\r\n",
      "__label__javascript __label__ajax how do you manage infragistics webgrid data from javascript/ajax code\r\n",
      "__label__wcf how to consume json web services from a windows client\r\n"
     ]
    }
   ],
   "source": [
    "! head -10 data/test"
   ]
  },
  {
   "cell_type": "code",
   "execution_count": 3,
   "metadata": {},
   "outputs": [],
   "source": [
    "def keep_sentence_field(line):\n",
    "    '''\n",
    "    Function to keep only the text input given a labeled instance with fastText format.\n",
    "    Example\n",
    "    Input:\n",
    "    '__label__python __label__django help with unit testing in a python app using django'\n",
    "    Output:\n",
    "    'help with unit testing in a python app using django'\n",
    "    '''\n",
    "    words = [x for x in line.split() if \"__label__\" not in x]\n",
    "    output = ' '.join(words)\n",
    "    return output\n",
    "\n",
    "# Location of input file\n",
    "inputFile = 'data/test'\n",
    "\n",
    "# Define Python generators to 1) read lines, 2) keep only the sentence field\n",
    "lines = (line for line in open(inputFile,encoding=\"ISO-8859-1\"))\n",
    "sentences = (keep_sentence_field(line) for line in lines)\n",
    "\n",
    "# Location of output file\n",
    "outputFile = 'data/test_unlabeled'\n",
    "\n",
    "# Apply the generators and write predictions\n",
    "with open(outputFile, 'w') as file:\n",
    "    for sentence in sentences:\n",
    "        file.write(sentence+'\\n')\n",
    "    file.close()"
   ]
  },
  {
   "cell_type": "code",
   "execution_count": 4,
   "metadata": {},
   "outputs": [
    {
     "name": "stdout",
     "output_type": "stream",
     "text": [
      "making an image greyscale with gd library\r\n",
      "transforming selected text with a hotkey\r\n",
      "sql server and the guest account what is this for\r\n",
      "how can i change html attribute names with jquery\r\n",
      "how can i send an array to php through ajax\r\n",
      "c the definitive truth about rand random and arc4random\r\n",
      "gantt chart controls on windows forms\r\n",
      "build tar file from directory in php without exec/passthru\r\n",
      "how do you manage infragistics webgrid data from javascript/ajax code\r\n",
      "how to consume json web services from a windows client\r\n"
     ]
    }
   ],
   "source": [
    "! head -10 data/test_unlabeled"
   ]
  },
  {
   "cell_type": "markdown",
   "metadata": {},
   "source": [
    "# Generating Parquet file"
   ]
  },
  {
   "cell_type": "markdown",
   "metadata": {},
   "source": [
    "Let's make a Spark DF from the unlabeled text file, and then make a Parquet file from it for later use."
   ]
  },
  {
   "cell_type": "code",
   "execution_count": 5,
   "metadata": {},
   "outputs": [],
   "source": [
    "from pyspark.sql.types import StructType, StructField, StringType\n",
    "\n",
    "schema = StructType([StructField(\"input\", StringType())])\n",
    "\n",
    "df_input = spark.read.csv('data/test_unlabeled', header=False, schema=schema)"
   ]
  },
  {
   "cell_type": "code",
   "execution_count": 6,
   "metadata": {},
   "outputs": [
    {
     "name": "stdout",
     "output_type": "stream",
     "text": [
      "+---------------------------------------------------------------------+\n",
      "|input                                                                |\n",
      "+---------------------------------------------------------------------+\n",
      "|making an image greyscale with gd library                            |\n",
      "|transforming selected text with a hotkey                             |\n",
      "|sql server and the guest account what is this for                    |\n",
      "|how can i change html attribute names with jquery                    |\n",
      "|how can i send an array to php through ajax                          |\n",
      "|c the definitive truth about rand random and arc4random              |\n",
      "|gantt chart controls on windows forms                                |\n",
      "|build tar file from directory in php without exec/passthru           |\n",
      "|how do you manage infragistics webgrid data from javascript/ajax code|\n",
      "|how to consume json web services from a windows client               |\n",
      "+---------------------------------------------------------------------+\n",
      "only showing top 10 rows\n",
      "\n"
     ]
    }
   ],
   "source": [
    "df_input.show(10,False)"
   ]
  },
  {
   "cell_type": "code",
   "execution_count": 7,
   "metadata": {},
   "outputs": [],
   "source": [
    "df_input.write.mode('overwrite').parquet('data/input.parquet')"
   ]
  }
 ],
 "metadata": {
  "kernelspec": {
   "display_name": "Python 3",
   "language": "python",
   "name": "python3"
  },
  "language_info": {
   "codemirror_mode": {
    "name": "ipython",
    "version": 3
   },
   "file_extension": ".py",
   "mimetype": "text/x-python",
   "name": "python",
   "nbconvert_exporter": "python",
   "pygments_lexer": "ipython3",
   "version": "3.7.4"
  }
 },
 "nbformat": 4,
 "nbformat_minor": 2
}
